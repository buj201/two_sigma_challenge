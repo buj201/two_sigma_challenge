{
 "cells": [
  {
   "cell_type": "markdown",
   "metadata": {
    "deletable": true,
    "editable": true
   },
   "source": [
    "# Reading and cleaning bike trip history data\n",
    "\n",
    "This notebook includes initial exploration of the bike trip history data. Specifically, it was used to:\n",
    "1. Develop code for reading tripdata.zip files and selecting features available at the start of the trip\n",
    "2. Initial exploratory analysis of these features (to identify potential issues in the data)."
   ]
  },
  {
   "cell_type": "code",
   "execution_count": 1,
   "metadata": {
    "collapsed": true,
    "deletable": true,
    "editable": true
   },
   "outputs": [],
   "source": [
    "import datetime\n",
    "import pandas as pd\n",
    "import numpy as np"
   ]
  },
  {
   "cell_type": "code",
   "execution_count": 2,
   "metadata": {
    "collapsed": false,
    "deletable": true,
    "editable": true
   },
   "outputs": [],
   "source": [
    "columns = ['Trip Duration',\n",
    "           'Start Time',\n",
    "           'Start Station ID',\n",
    "           'Start Station Latitude',\n",
    "           'Start Station Longitude',\n",
    "           'User Type',\n",
    "           'Birth Year',\n",
    "           'Gender']\n",
    "df = pd.read_csv('./../data/raw/201612-citibike-tripdata.zip', parse_dates=[1], usecols=columns)"
   ]
  },
  {
   "cell_type": "code",
   "execution_count": 3,
   "metadata": {
    "collapsed": false,
    "deletable": true,
    "editable": true
   },
   "outputs": [],
   "source": [
    "df['Day of Week'] = df['Start Time'].dt.dayofweek\n",
    "df['Hour'] = df['Start Time'].dt.hour\n",
    "df['Month'] = df['Start Time'].dt.month"
   ]
  },
  {
   "cell_type": "code",
   "execution_count": 4,
   "metadata": {
    "collapsed": false,
    "deletable": true,
    "editable": true
   },
   "outputs": [
    {
     "data": {
      "text/html": [
       "<div>\n",
       "<table border=\"1\" class=\"dataframe\">\n",
       "  <thead>\n",
       "    <tr style=\"text-align: right;\">\n",
       "      <th></th>\n",
       "      <th>Trip Duration</th>\n",
       "      <th>Start Time</th>\n",
       "      <th>Start Station ID</th>\n",
       "      <th>Start Station Latitude</th>\n",
       "      <th>Start Station Longitude</th>\n",
       "      <th>User Type</th>\n",
       "      <th>Birth Year</th>\n",
       "      <th>Gender</th>\n",
       "      <th>Day of Week</th>\n",
       "      <th>Hour</th>\n",
       "      <th>Month</th>\n",
       "    </tr>\n",
       "  </thead>\n",
       "  <tbody>\n",
       "    <tr>\n",
       "      <th>0</th>\n",
       "      <td>528</td>\n",
       "      <td>2016-12-01 00:00:04</td>\n",
       "      <td>499</td>\n",
       "      <td>40.769155</td>\n",
       "      <td>-73.981918</td>\n",
       "      <td>Subscriber</td>\n",
       "      <td>1964.0</td>\n",
       "      <td>1</td>\n",
       "      <td>3</td>\n",
       "      <td>0</td>\n",
       "      <td>12</td>\n",
       "    </tr>\n",
       "    <tr>\n",
       "      <th>1</th>\n",
       "      <td>218</td>\n",
       "      <td>2016-12-01 00:00:28</td>\n",
       "      <td>3418</td>\n",
       "      <td>40.675021</td>\n",
       "      <td>-73.971115</td>\n",
       "      <td>Subscriber</td>\n",
       "      <td>1955.0</td>\n",
       "      <td>1</td>\n",
       "      <td>3</td>\n",
       "      <td>0</td>\n",
       "      <td>12</td>\n",
       "    </tr>\n",
       "    <tr>\n",
       "      <th>2</th>\n",
       "      <td>399</td>\n",
       "      <td>2016-12-01 00:00:39</td>\n",
       "      <td>297</td>\n",
       "      <td>40.734232</td>\n",
       "      <td>-73.986923</td>\n",
       "      <td>Subscriber</td>\n",
       "      <td>1985.0</td>\n",
       "      <td>1</td>\n",
       "      <td>3</td>\n",
       "      <td>0</td>\n",
       "      <td>12</td>\n",
       "    </tr>\n",
       "    <tr>\n",
       "      <th>3</th>\n",
       "      <td>254</td>\n",
       "      <td>2016-12-01 00:00:44</td>\n",
       "      <td>405</td>\n",
       "      <td>40.739323</td>\n",
       "      <td>-74.008119</td>\n",
       "      <td>Subscriber</td>\n",
       "      <td>1982.0</td>\n",
       "      <td>1</td>\n",
       "      <td>3</td>\n",
       "      <td>0</td>\n",
       "      <td>12</td>\n",
       "    </tr>\n",
       "    <tr>\n",
       "      <th>4</th>\n",
       "      <td>1805</td>\n",
       "      <td>2016-12-01 00:00:54</td>\n",
       "      <td>279</td>\n",
       "      <td>40.707873</td>\n",
       "      <td>-74.001670</td>\n",
       "      <td>Subscriber</td>\n",
       "      <td>1989.0</td>\n",
       "      <td>1</td>\n",
       "      <td>3</td>\n",
       "      <td>0</td>\n",
       "      <td>12</td>\n",
       "    </tr>\n",
       "  </tbody>\n",
       "</table>\n",
       "</div>"
      ],
      "text/plain": [
       "   Trip Duration          Start Time Start Station ID  Start Station Latitude  \\\n",
       "0            528 2016-12-01 00:00:04              499               40.769155   \n",
       "1            218 2016-12-01 00:00:28             3418               40.675021   \n",
       "2            399 2016-12-01 00:00:39              297               40.734232   \n",
       "3            254 2016-12-01 00:00:44              405               40.739323   \n",
       "4           1805 2016-12-01 00:00:54              279               40.707873   \n",
       "\n",
       "   Start Station Longitude   User Type  Birth Year  Gender  Day of Week  Hour  \\\n",
       "0               -73.981918  Subscriber      1964.0       1            3     0   \n",
       "1               -73.971115  Subscriber      1955.0       1            3     0   \n",
       "2               -73.986923  Subscriber      1985.0       1            3     0   \n",
       "3               -74.008119  Subscriber      1982.0       1            3     0   \n",
       "4               -74.001670  Subscriber      1989.0       1            3     0   \n",
       "\n",
       "   Month  \n",
       "0     12  \n",
       "1     12  \n",
       "2     12  \n",
       "3     12  \n",
       "4     12  "
      ]
     },
     "execution_count": 4,
     "metadata": {},
     "output_type": "execute_result"
    }
   ],
   "source": [
    "df.head()"
   ]
  },
  {
   "cell_type": "code",
   "execution_count": 5,
   "metadata": {
    "collapsed": false,
    "deletable": true,
    "editable": true
   },
   "outputs": [
    {
     "data": {
      "text/html": [
       "<div>\n",
       "<table border=\"1\" class=\"dataframe\">\n",
       "  <thead>\n",
       "    <tr style=\"text-align: right;\">\n",
       "      <th></th>\n",
       "      <th>Trip Duration</th>\n",
       "      <th>Start Station Latitude</th>\n",
       "      <th>Start Station Longitude</th>\n",
       "      <th>Birth Year</th>\n",
       "      <th>Gender</th>\n",
       "      <th>Day of Week</th>\n",
       "      <th>Hour</th>\n",
       "      <th>Month</th>\n",
       "    </tr>\n",
       "  </thead>\n",
       "  <tbody>\n",
       "    <tr>\n",
       "      <th>count</th>\n",
       "      <td>8.121920e+05</td>\n",
       "      <td>812192.000000</td>\n",
       "      <td>812192.000000</td>\n",
       "      <td>772488.000000</td>\n",
       "      <td>812192.000000</td>\n",
       "      <td>812192.000000</td>\n",
       "      <td>812192.000000</td>\n",
       "      <td>812192.0</td>\n",
       "    </tr>\n",
       "    <tr>\n",
       "      <th>mean</th>\n",
       "      <td>7.759573e+02</td>\n",
       "      <td>40.737667</td>\n",
       "      <td>-73.984587</td>\n",
       "      <td>1977.099969</td>\n",
       "      <td>1.161004</td>\n",
       "      <td>2.806270</td>\n",
       "      <td>13.577580</td>\n",
       "      <td>12.0</td>\n",
       "    </tr>\n",
       "    <tr>\n",
       "      <th>std</th>\n",
       "      <td>7.542199e+03</td>\n",
       "      <td>0.082664</td>\n",
       "      <td>0.143095</td>\n",
       "      <td>11.999981</td>\n",
       "      <td>0.489375</td>\n",
       "      <td>1.802958</td>\n",
       "      <td>4.816329</td>\n",
       "      <td>0.0</td>\n",
       "    </tr>\n",
       "    <tr>\n",
       "      <th>min</th>\n",
       "      <td>6.100000e+01</td>\n",
       "      <td>0.000000</td>\n",
       "      <td>-74.031372</td>\n",
       "      <td>1885.000000</td>\n",
       "      <td>0.000000</td>\n",
       "      <td>0.000000</td>\n",
       "      <td>0.000000</td>\n",
       "      <td>12.0</td>\n",
       "    </tr>\n",
       "    <tr>\n",
       "      <th>25%</th>\n",
       "      <td>3.340000e+02</td>\n",
       "      <td>40.721101</td>\n",
       "      <td>-73.995101</td>\n",
       "      <td>1969.000000</td>\n",
       "      <td>1.000000</td>\n",
       "      <td>1.000000</td>\n",
       "      <td>9.000000</td>\n",
       "      <td>12.0</td>\n",
       "    </tr>\n",
       "    <tr>\n",
       "      <th>50%</th>\n",
       "      <td>5.330000e+02</td>\n",
       "      <td>40.739445</td>\n",
       "      <td>-73.987216</td>\n",
       "      <td>1979.000000</td>\n",
       "      <td>1.000000</td>\n",
       "      <td>3.000000</td>\n",
       "      <td>14.000000</td>\n",
       "      <td>12.0</td>\n",
       "    </tr>\n",
       "    <tr>\n",
       "      <th>75%</th>\n",
       "      <td>8.760000e+02</td>\n",
       "      <td>40.756014</td>\n",
       "      <td>-73.976485</td>\n",
       "      <td>1987.000000</td>\n",
       "      <td>1.000000</td>\n",
       "      <td>4.000000</td>\n",
       "      <td>17.000000</td>\n",
       "      <td>12.0</td>\n",
       "    </tr>\n",
       "    <tr>\n",
       "      <th>max</th>\n",
       "      <td>3.473103e+06</td>\n",
       "      <td>40.804213</td>\n",
       "      <td>0.000000</td>\n",
       "      <td>2000.000000</td>\n",
       "      <td>2.000000</td>\n",
       "      <td>6.000000</td>\n",
       "      <td>23.000000</td>\n",
       "      <td>12.0</td>\n",
       "    </tr>\n",
       "  </tbody>\n",
       "</table>\n",
       "</div>"
      ],
      "text/plain": [
       "       Trip Duration  Start Station Latitude  Start Station Longitude  \\\n",
       "count   8.121920e+05           812192.000000            812192.000000   \n",
       "mean    7.759573e+02               40.737667               -73.984587   \n",
       "std     7.542199e+03                0.082664                 0.143095   \n",
       "min     6.100000e+01                0.000000               -74.031372   \n",
       "25%     3.340000e+02               40.721101               -73.995101   \n",
       "50%     5.330000e+02               40.739445               -73.987216   \n",
       "75%     8.760000e+02               40.756014               -73.976485   \n",
       "max     3.473103e+06               40.804213                 0.000000   \n",
       "\n",
       "          Birth Year         Gender    Day of Week           Hour     Month  \n",
       "count  772488.000000  812192.000000  812192.000000  812192.000000  812192.0  \n",
       "mean     1977.099969       1.161004       2.806270      13.577580      12.0  \n",
       "std        11.999981       0.489375       1.802958       4.816329       0.0  \n",
       "min      1885.000000       0.000000       0.000000       0.000000      12.0  \n",
       "25%      1969.000000       1.000000       1.000000       9.000000      12.0  \n",
       "50%      1979.000000       1.000000       3.000000      14.000000      12.0  \n",
       "75%      1987.000000       1.000000       4.000000      17.000000      12.0  \n",
       "max      2000.000000       2.000000       6.000000      23.000000      12.0  "
      ]
     },
     "execution_count": 5,
     "metadata": {},
     "output_type": "execute_result"
    }
   ],
   "source": [
    "df.describe()"
   ]
  },
  {
   "cell_type": "markdown",
   "metadata": {
    "deletable": true,
    "editable": true
   },
   "source": [
    "Issues identified include:\n",
    "- 0 lat/long records.\n",
    "- Unreasonable birth years"
   ]
  },
  {
   "cell_type": "code",
   "execution_count": 6,
   "metadata": {
    "collapsed": false,
    "deletable": true,
    "editable": true
   },
   "outputs": [
    {
     "name": "stderr",
     "output_type": "stream",
     "text": [
      "/Users/benjaminjakubowski/anaconda/lib/python2.7/site-packages/matplotlib/__init__.py:872: UserWarning: axes.color_cycle is deprecated and replaced with axes.prop_cycle; please use the latter.\n",
      "  warnings.warn(self.msg_depr % (key, alt_key))\n"
     ]
    }
   ],
   "source": [
    "import seaborn as sns\n",
    "import matplotlib.pyplot as plt\n",
    "%matplotlib inline"
   ]
  },
  {
   "cell_type": "code",
   "execution_count": 7,
   "metadata": {
    "collapsed": false,
    "deletable": true,
    "editable": true
   },
   "outputs": [
    {
     "data": {
      "image/png": "[encoded data removed]",
      "text/plain": [
       "<matplotlib.figure.Figure at 0x114374290>"
      ]
     },
     "metadata": {},
     "output_type": "display_data"
    }
   ],
   "source": [
    "hist = plt.hist(df['Start Station Latitude'])"
   ]
  },
  {
   "cell_type": "code",
   "execution_count": 8,
   "metadata": {
    "collapsed": false,
    "deletable": true,
    "editable": true
   },
   "outputs": [
    {
     "data": {
      "image/png": "[encoded data removed]",
      "text/plain": [
       "<matplotlib.figure.Figure at 0x114492090>"
      ]
     },
     "metadata": {},
     "output_type": "display_data"
    }
   ],
   "source": [
    "hist = plt.hist(df['Start Station Longitude'])"
   ]
  },
  {
   "cell_type": "markdown",
   "metadata": {
    "deletable": true,
    "editable": true
   },
   "source": [
    "We filter out these records using a simply threshold, though with additional time a more rigorous bounding box or bounding polygon test could be used."
   ]
  },
  {
   "cell_type": "code",
   "execution_count": 9,
   "metadata": {
    "collapsed": false,
    "deletable": true,
    "editable": true
   },
   "outputs": [
    {
     "name": "stdout",
     "output_type": "stream",
     "text": [
      "(812192, 11)\n",
      "(812189, 11)\n",
      "(812189, 11)\n"
     ]
    }
   ],
   "source": [
    "print df.shape\n",
    "df = df.loc[df['Start Station Longitude'] < -65, :]\n",
    "print df.shape\n",
    "df = df.loc[df['Start Station Latitude'] > 35, :]\n",
    "print df.shape"
   ]
  },
  {
   "cell_type": "code",
   "execution_count": 10,
   "metadata": {
    "collapsed": false,
    "deletable": true,
    "editable": true
   },
   "outputs": [
    {
     "data": {
      "image/png": "[encoded data removed]",
      "text/plain": [
       "<matplotlib.figure.Figure at 0x10ff6da90>"
      ]
     },
     "metadata": {},
     "output_type": "display_data"
    }
   ],
   "source": [
    "hist = plt.hist(df['Start Station Longitude'])"
   ]
  },
  {
   "cell_type": "code",
   "execution_count": 11,
   "metadata": {
    "collapsed": false,
    "deletable": true,
    "editable": true
   },
   "outputs": [
    {
     "data": {
      "image/png": "[encoded data removed]",
      "text/plain": [
       "<matplotlib.figure.Figure at 0x110326710>"
      ]
     },
     "metadata": {},
     "output_type": "display_data"
    }
   ],
   "source": [
    "hist = plt.hist(df['Start Station Latitude'])"
   ]
  },
  {
   "cell_type": "markdown",
   "metadata": {
    "deletable": true,
    "editable": true
   },
   "source": [
    "Next we consider the age distribution:"
   ]
  },
  {
   "cell_type": "code",
   "execution_count": 12,
   "metadata": {
    "collapsed": false,
    "deletable": true,
    "editable": true
   },
   "outputs": [
    {
     "data": {
      "text/plain": [
       "39704"
      ]
     },
     "execution_count": 12,
     "metadata": {},
     "output_type": "execute_result"
    }
   ],
   "source": [
    "np.sum(df['Birth Year'].isnull())"
   ]
  },
  {
   "cell_type": "markdown",
   "metadata": {
    "deletable": true,
    "editable": true
   },
   "source": [
    "There are 39704 missing values, but also a number that are unreasonable:"
   ]
  },
  {
   "cell_type": "code",
   "execution_count": 13,
   "metadata": {
    "collapsed": false,
    "deletable": true,
    "editable": true
   },
   "outputs": [
    {
     "data": {
      "image/png": "[encoded data removed]",
      "text/plain": [
       "<matplotlib.figure.Figure at 0x114d719d0>"
      ]
     },
     "metadata": {},
     "output_type": "display_data"
    }
   ],
   "source": [
    "hist = plt.hist(df.loc[~df['Birth Year'].isnull(), 'Birth Year'])"
   ]
  },
  {
   "cell_type": "markdown",
   "metadata": {
    "deletable": true,
    "editable": true
   },
   "source": [
    "Again applying a heuristic threshold, we'll classify any Birth Year <= 1920 as NaN."
   ]
  },
  {
   "cell_type": "code",
   "execution_count": 14,
   "metadata": {
    "collapsed": true,
    "deletable": true,
    "editable": true
   },
   "outputs": [],
   "source": [
    "df['Birth Year'] = df['Birth Year'].apply(lambda x: x if x > 1920 else np.NaN)"
   ]
  },
  {
   "cell_type": "code",
   "execution_count": 15,
   "metadata": {
    "collapsed": false,
    "deletable": true,
    "editable": true
   },
   "outputs": [
    {
     "data": {
      "text/plain": [
       "40002"
      ]
     },
     "execution_count": 15,
     "metadata": {},
     "output_type": "execute_result"
    }
   ],
   "source": [
    "np.sum(df['Birth Year'].isnull())"
   ]
  },
  {
   "cell_type": "markdown",
   "metadata": {
    "deletable": true,
    "editable": true
   },
   "source": [
    "Finally, we'll fill the missing birth year's using the mean value for each station, and add a \"missing\" dummy. Note this again is a simple approach, and given additional time alternate approaches could be considered."
   ]
  },
  {
   "cell_type": "code",
   "execution_count": 16,
   "metadata": {
    "collapsed": true,
    "deletable": true,
    "editable": true
   },
   "outputs": [],
   "source": [
    "mean_year_by_station = df.groupby('Start Station ID').agg({'Birth Year':np.mean})"
   ]
  },
  {
   "cell_type": "code",
   "execution_count": 17,
   "metadata": {
    "collapsed": true,
    "deletable": true,
    "editable": true
   },
   "outputs": [],
   "source": [
    "df['Age Missing'] = df['Birth Year'].isnull().astype(int) #Note we'll use Age instead of birthyear"
   ]
  },
  {
   "cell_type": "code",
   "execution_count": 18,
   "metadata": {
    "collapsed": false,
    "deletable": true,
    "editable": true
   },
   "outputs": [
    {
     "data": {
      "text/html": [
       "<div>\n",
       "<table border=\"1\" class=\"dataframe\">\n",
       "  <thead>\n",
       "    <tr style=\"text-align: right;\">\n",
       "      <th></th>\n",
       "      <th>Birth Year</th>\n",
       "    </tr>\n",
       "    <tr>\n",
       "      <th>Start Station ID</th>\n",
       "      <th></th>\n",
       "    </tr>\n",
       "  </thead>\n",
       "  <tbody>\n",
       "    <tr>\n",
       "      <th>116</th>\n",
       "      <td>1977.585949</td>\n",
       "    </tr>\n",
       "    <tr>\n",
       "      <th>119</th>\n",
       "      <td>1975.762195</td>\n",
       "    </tr>\n",
       "    <tr>\n",
       "      <th>120</th>\n",
       "      <td>1978.773050</td>\n",
       "    </tr>\n",
       "    <tr>\n",
       "      <th>127</th>\n",
       "      <td>1976.155488</td>\n",
       "    </tr>\n",
       "    <tr>\n",
       "      <th>128</th>\n",
       "      <td>1978.778722</td>\n",
       "    </tr>\n",
       "  </tbody>\n",
       "</table>\n",
       "</div>"
      ],
      "text/plain": [
       "                   Birth Year\n",
       "Start Station ID             \n",
       "116               1977.585949\n",
       "119               1975.762195\n",
       "120               1978.773050\n",
       "127               1976.155488\n",
       "128               1978.778722"
      ]
     },
     "execution_count": 18,
     "metadata": {},
     "output_type": "execute_result"
    }
   ],
   "source": [
    "mean_year_by_station.head()"
   ]
  },
  {
   "cell_type": "code",
   "execution_count": 19,
   "metadata": {
    "collapsed": false,
    "deletable": true,
    "editable": true
   },
   "outputs": [],
   "source": [
    "df = pd.merge(df, mean_year_by_station, how='left', left_on='Start Station ID', right_index=True)"
   ]
  },
  {
   "cell_type": "code",
   "execution_count": 20,
   "metadata": {
    "collapsed": false,
    "deletable": true,
    "editable": true
   },
   "outputs": [],
   "source": [
    "df['Birth Year'] = df['Birth Year_x'].fillna(df['Birth Year_y'])"
   ]
  },
  {
   "cell_type": "code",
   "execution_count": 21,
   "metadata": {
    "collapsed": true,
    "deletable": true,
    "editable": true
   },
   "outputs": [],
   "source": [
    "df.drop(['Birth Year_x', 'Birth Year_y'], axis=1, inplace=True)"
   ]
  },
  {
   "cell_type": "code",
   "execution_count": 22,
   "metadata": {
    "collapsed": false,
    "deletable": true,
    "editable": true
   },
   "outputs": [
    {
     "data": {
      "text/plain": [
       "Trip Duration              812189\n",
       "Start Time                 812189\n",
       "Start Station ID           812189\n",
       "Start Station Latitude     812189\n",
       "Start Station Longitude    812189\n",
       "User Type                  806801\n",
       "Gender                     812189\n",
       "Day of Week                812189\n",
       "Hour                       812189\n",
       "Month                      812189\n",
       "Age Missing                812189\n",
       "Birth Year                 812189\n",
       "dtype: int64"
      ]
     },
     "execution_count": 22,
     "metadata": {},
     "output_type": "execute_result"
    }
   ],
   "source": [
    "df.count()"
   ]
  },
  {
   "cell_type": "markdown",
   "metadata": {
    "deletable": true,
    "editable": true
   },
   "source": [
    "Finally, note there are missing User Types- this is fine, since we'll encode that as a missing dummy.\n",
    "\n",
    "Finally, we'll convert \"Birth Year\" into an \"Age\" feature."
   ]
  },
  {
   "cell_type": "code",
   "execution_count": 23,
   "metadata": {
    "collapsed": true,
    "deletable": true,
    "editable": true
   },
   "outputs": [],
   "source": [
    "df['Age'] = df['Start Time'].dt.year - df['Birth Year']"
   ]
  },
  {
   "cell_type": "code",
   "execution_count": 24,
   "metadata": {
    "collapsed": false,
    "deletable": true,
    "editable": true
   },
   "outputs": [
    {
     "data": {
      "image/png": "[encoded data removed]",
      "text/plain": [
       "<matplotlib.figure.Figure at 0x115b7dd90>"
      ]
     },
     "metadata": {},
     "output_type": "display_data"
    }
   ],
   "source": [
    "hist = plt.hist(df['Age'])"
   ]
  },
  {
   "cell_type": "code",
   "execution_count": 25,
   "metadata": {
    "collapsed": false,
    "deletable": true,
    "editable": true
   },
   "outputs": [],
   "source": [
    "df.drop('Birth Year',axis=1, inplace=True)"
   ]
  },
  {
   "cell_type": "code",
   "execution_count": 26,
   "metadata": {
    "collapsed": false,
    "deletable": true,
    "editable": true,
    "scrolled": true
   },
   "outputs": [
    {
     "data": {
      "text/plain": [
       "Trip Duration              812189\n",
       "Start Time                 812189\n",
       "Start Station ID           812189\n",
       "Start Station Latitude     812189\n",
       "Start Station Longitude    812189\n",
       "User Type                  806801\n",
       "Gender                     812189\n",
       "Day of Week                812189\n",
       "Hour                       812189\n",
       "Month                      812189\n",
       "Age Missing                812189\n",
       "Age                        812189\n",
       "dtype: int64"
      ]
     },
     "execution_count": 26,
     "metadata": {},
     "output_type": "execute_result"
    }
   ],
   "source": [
    "df.count()"
   ]
  },
  {
   "cell_type": "markdown",
   "metadata": {
    "deletable": true,
    "editable": true
   },
   "source": [
    "Finally, we'll make dummies for string feature (User Type) and drop lat/long features. Note we will not make dummies for integer-index categorical variables, as we can use sklearn's OneHotEncoder."
   ]
  },
  {
   "cell_type": "code",
   "execution_count": 27,
   "metadata": {
    "collapsed": false,
    "deletable": true,
    "editable": true
   },
   "outputs": [],
   "source": [
    "users = pd.get_dummies(df['User Type'], dummy_na=True)\n",
    "users.columns = list(users.columns[0:2]) + ['User Type Missing']\n",
    "df = df.join(users)"
   ]
  },
  {
   "cell_type": "code",
   "execution_count": 28,
   "metadata": {
    "collapsed": false,
    "deletable": true,
    "editable": true
   },
   "outputs": [],
   "source": [
    "df.drop(['Start Station Latitude', 'Start Station Longitude', 'User Type'], axis=1, inplace=True)"
   ]
  },
  {
   "cell_type": "code",
   "execution_count": 29,
   "metadata": {
    "collapsed": false,
    "deletable": true,
    "editable": true,
    "scrolled": true
   },
   "outputs": [
    {
     "data": {
      "text/plain": [
       "Trip Duration        812189\n",
       "Start Time           812189\n",
       "Start Station ID     812189\n",
       "Gender               812189\n",
       "Day of Week          812189\n",
       "Hour                 812189\n",
       "Month                812189\n",
       "Age Missing          812189\n",
       "Age                  812189\n",
       "Customer             812189\n",
       "Subscriber           812189\n",
       "User Type Missing    812189\n",
       "dtype: int64"
      ]
     },
     "execution_count": 29,
     "metadata": {},
     "output_type": "execute_result"
    }
   ],
   "source": [
    "df.count()"
   ]
  }
 ],
 "metadata": {
  "kernelspec": {
   "display_name": "Python 2",
   "language": "python",
   "name": "python2"
  },
  "language_info": {
   "codemirror_mode": {
    "name": "ipython",
    "version": 2
   },
   "file_extension": ".py",
   "mimetype": "text/x-python",
   "name": "python",
   "nbconvert_exporter": "python",
   "pygments_lexer": "ipython2",
   "version": "2.7.10"
  }
 },
 "nbformat": 4,
 "nbformat_minor": 0
}
