{
 "cells": [
  {
   "cell_type": "markdown",
   "metadata": {
    "deletable": true,
    "editable": true
   },
   "source": [
    "# Reading and cleaning bike trip history data\n",
    "\n",
    "This notebook includes initial exploration of the NOAA weather data. Specifically, it was used to:\n",
    "1. Develop code for cleaning NOAA data prior to merge with tripdata."
   ]
  },
  {
   "cell_type": "code",
   "execution_count": 36,
   "metadata": {
    "collapsed": true,
    "deletable": true,
    "editable": true
   },
   "outputs": [],
   "source": [
    "import pandas as pd\n",
    "import numpy as np"
   ]
  },
  {
   "cell_type": "code",
   "execution_count": 37,
   "metadata": {
    "collapsed": true,
    "deletable": true,
    "editable": true
   },
   "outputs": [],
   "source": [
    "df = pd.read_csv('./../data/external/903571.csv', na_values=-9999, parse_dates=[2])"
   ]
  },
  {
   "cell_type": "code",
   "execution_count": 38,
   "metadata": {
    "collapsed": false
   },
   "outputs": [
    {
     "data": {
      "text/html": [
       "<div>\n",
       "<table border=\"1\" class=\"dataframe\">\n",
       "  <thead>\n",
       "    <tr style=\"text-align: right;\">\n",
       "      <th></th>\n",
       "      <th>STATION</th>\n",
       "      <th>STATION_NAME</th>\n",
       "      <th>DATE</th>\n",
       "      <th>PRCP</th>\n",
       "      <th>SNWD</th>\n",
       "      <th>SNOW</th>\n",
       "      <th>TAVG</th>\n",
       "      <th>TMAX</th>\n",
       "      <th>TMIN</th>\n",
       "      <th>AWND</th>\n",
       "      <th>WSF2</th>\n",
       "      <th>WSF5</th>\n",
       "      <th>WT01</th>\n",
       "      <th>WT06</th>\n",
       "      <th>WT02</th>\n",
       "      <th>WT04</th>\n",
       "      <th>WT08</th>\n",
       "    </tr>\n",
       "  </thead>\n",
       "  <tbody>\n",
       "    <tr>\n",
       "      <th>0</th>\n",
       "      <td>GHCND:USW00094728</td>\n",
       "      <td>NY CITY CENTRAL PARK NY US</td>\n",
       "      <td>2016-01-01</td>\n",
       "      <td>0.0</td>\n",
       "      <td>0.0</td>\n",
       "      <td>0.0</td>\n",
       "      <td>NaN</td>\n",
       "      <td>42</td>\n",
       "      <td>34</td>\n",
       "      <td>7.6</td>\n",
       "      <td>17.0</td>\n",
       "      <td>25.9</td>\n",
       "      <td>NaN</td>\n",
       "      <td>NaN</td>\n",
       "      <td>NaN</td>\n",
       "      <td>NaN</td>\n",
       "      <td>NaN</td>\n",
       "    </tr>\n",
       "    <tr>\n",
       "      <th>1</th>\n",
       "      <td>GHCND:USW00094728</td>\n",
       "      <td>NY CITY CENTRAL PARK NY US</td>\n",
       "      <td>2016-01-02</td>\n",
       "      <td>0.0</td>\n",
       "      <td>0.0</td>\n",
       "      <td>0.0</td>\n",
       "      <td>NaN</td>\n",
       "      <td>40</td>\n",
       "      <td>32</td>\n",
       "      <td>6.7</td>\n",
       "      <td>15.0</td>\n",
       "      <td>23.0</td>\n",
       "      <td>NaN</td>\n",
       "      <td>NaN</td>\n",
       "      <td>NaN</td>\n",
       "      <td>NaN</td>\n",
       "      <td>NaN</td>\n",
       "    </tr>\n",
       "    <tr>\n",
       "      <th>2</th>\n",
       "      <td>GHCND:USW00094728</td>\n",
       "      <td>NY CITY CENTRAL PARK NY US</td>\n",
       "      <td>2016-01-03</td>\n",
       "      <td>0.0</td>\n",
       "      <td>0.0</td>\n",
       "      <td>0.0</td>\n",
       "      <td>NaN</td>\n",
       "      <td>45</td>\n",
       "      <td>35</td>\n",
       "      <td>7.8</td>\n",
       "      <td>17.0</td>\n",
       "      <td>25.9</td>\n",
       "      <td>NaN</td>\n",
       "      <td>NaN</td>\n",
       "      <td>NaN</td>\n",
       "      <td>NaN</td>\n",
       "      <td>NaN</td>\n",
       "    </tr>\n",
       "    <tr>\n",
       "      <th>3</th>\n",
       "      <td>GHCND:USW00094728</td>\n",
       "      <td>NY CITY CENTRAL PARK NY US</td>\n",
       "      <td>2016-01-04</td>\n",
       "      <td>0.0</td>\n",
       "      <td>0.0</td>\n",
       "      <td>0.0</td>\n",
       "      <td>NaN</td>\n",
       "      <td>36</td>\n",
       "      <td>14</td>\n",
       "      <td>8.5</td>\n",
       "      <td>21.0</td>\n",
       "      <td>31.1</td>\n",
       "      <td>NaN</td>\n",
       "      <td>NaN</td>\n",
       "      <td>NaN</td>\n",
       "      <td>NaN</td>\n",
       "      <td>NaN</td>\n",
       "    </tr>\n",
       "    <tr>\n",
       "      <th>4</th>\n",
       "      <td>GHCND:USW00094728</td>\n",
       "      <td>NY CITY CENTRAL PARK NY US</td>\n",
       "      <td>2016-01-05</td>\n",
       "      <td>0.0</td>\n",
       "      <td>0.0</td>\n",
       "      <td>0.0</td>\n",
       "      <td>NaN</td>\n",
       "      <td>29</td>\n",
       "      <td>11</td>\n",
       "      <td>5.1</td>\n",
       "      <td>19.9</td>\n",
       "      <td>30.0</td>\n",
       "      <td>NaN</td>\n",
       "      <td>NaN</td>\n",
       "      <td>NaN</td>\n",
       "      <td>NaN</td>\n",
       "      <td>NaN</td>\n",
       "    </tr>\n",
       "  </tbody>\n",
       "</table>\n",
       "</div>"
      ],
      "text/plain": [
       "             STATION                STATION_NAME       DATE  PRCP  SNWD  SNOW  \\\n",
       "0  GHCND:USW00094728  NY CITY CENTRAL PARK NY US 2016-01-01   0.0   0.0   0.0   \n",
       "1  GHCND:USW00094728  NY CITY CENTRAL PARK NY US 2016-01-02   0.0   0.0   0.0   \n",
       "2  GHCND:USW00094728  NY CITY CENTRAL PARK NY US 2016-01-03   0.0   0.0   0.0   \n",
       "3  GHCND:USW00094728  NY CITY CENTRAL PARK NY US 2016-01-04   0.0   0.0   0.0   \n",
       "4  GHCND:USW00094728  NY CITY CENTRAL PARK NY US 2016-01-05   0.0   0.0   0.0   \n",
       "\n",
       "   TAVG  TMAX  TMIN  AWND  WSF2  WSF5  WT01  WT06  WT02  WT04  WT08  \n",
       "0   NaN    42    34   7.6  17.0  25.9   NaN   NaN   NaN   NaN   NaN  \n",
       "1   NaN    40    32   6.7  15.0  23.0   NaN   NaN   NaN   NaN   NaN  \n",
       "2   NaN    45    35   7.8  17.0  25.9   NaN   NaN   NaN   NaN   NaN  \n",
       "3   NaN    36    14   8.5  21.0  31.1   NaN   NaN   NaN   NaN   NaN  \n",
       "4   NaN    29    11   5.1  19.9  30.0   NaN   NaN   NaN   NaN   NaN  "
      ]
     },
     "execution_count": 38,
     "metadata": {},
     "output_type": "execute_result"
    }
   ],
   "source": [
    "df.head()"
   ]
  },
  {
   "cell_type": "code",
   "execution_count": 39,
   "metadata": {
    "collapsed": false,
    "deletable": true,
    "editable": true,
    "scrolled": true
   },
   "outputs": [
    {
     "name": "stdout",
     "output_type": "stream",
     "text": [
      "<class 'pandas.core.frame.DataFrame'>\n",
      "RangeIndex: 366 entries, 0 to 365\n",
      "Data columns (total 17 columns):\n",
      "STATION         366 non-null object\n",
      "STATION_NAME    366 non-null object\n",
      "DATE            366 non-null datetime64[ns]\n",
      "PRCP            366 non-null float64\n",
      "SNWD            366 non-null float64\n",
      "SNOW            366 non-null float64\n",
      "TAVG            0 non-null float64\n",
      "TMAX            366 non-null int64\n",
      "TMIN            366 non-null int64\n",
      "AWND            356 non-null float64\n",
      "WSF2            358 non-null float64\n",
      "WSF5            352 non-null float64\n",
      "WT01            131 non-null float64\n",
      "WT06            2 non-null float64\n",
      "WT02            6 non-null float64\n",
      "WT04            1 non-null float64\n",
      "WT08            99 non-null float64\n",
      "dtypes: datetime64[ns](1), float64(12), int64(2), object(2)\n",
      "memory usage: 48.7+ KB\n"
     ]
    }
   ],
   "source": [
    "df.info()"
   ]
  },
  {
   "cell_type": "markdown",
   "metadata": {
    "deletable": true,
    "editable": true
   },
   "source": [
    "Based on the number of missing values (and rarity of weather events WT02, WT04, and WT06 which are heavy fog, ice pellets/sleet, and glaze or rime), we will only use the following features:\n",
    "    - PRCP: Precipitation\n",
    "    - SNOW: Snowfall\n",
    "    - SNWD: Snow depth\n",
    "    - TMAX: Max temperature\n",
    "    - TMIN: Min temperature\n",
    "    - AWND: Average daily wind speed\n",
    "    - WSF2: Fastest 2-minute wind speed\n",
    "    - WSF5: Fastest 4-second wind speed\n",
    "    - WT01: Fog, ice fog, or freezing fog (may include heavy fog)\n",
    "    - WT08: Smoke or haze"
   ]
  },
  {
   "cell_type": "code",
   "execution_count": 40,
   "metadata": {
    "collapsed": true,
    "deletable": true,
    "editable": true
   },
   "outputs": [],
   "source": [
    "df = df[['DATE','PRCP','SNOW','SNWD','TMAX','TMIN','AWND','WSF2','WSF5', 'WT01', 'WT08']]"
   ]
  },
  {
   "cell_type": "code",
   "execution_count": 41,
   "metadata": {
    "collapsed": false,
    "deletable": true,
    "editable": true
   },
   "outputs": [],
   "source": [
    "df = df.set_index('DATE')"
   ]
  },
  {
   "cell_type": "code",
   "execution_count": 42,
   "metadata": {
    "collapsed": false,
    "deletable": true,
    "editable": true
   },
   "outputs": [
    {
     "data": {
      "text/html": [
       "<div>\n",
       "<table border=\"1\" class=\"dataframe\">\n",
       "  <thead>\n",
       "    <tr style=\"text-align: right;\">\n",
       "      <th></th>\n",
       "      <th>PRCP</th>\n",
       "      <th>SNOW</th>\n",
       "      <th>SNWD</th>\n",
       "      <th>TMAX</th>\n",
       "      <th>TMIN</th>\n",
       "      <th>AWND</th>\n",
       "      <th>WSF2</th>\n",
       "      <th>WSF5</th>\n",
       "      <th>WT01</th>\n",
       "      <th>WT08</th>\n",
       "    </tr>\n",
       "    <tr>\n",
       "      <th>DATE</th>\n",
       "      <th></th>\n",
       "      <th></th>\n",
       "      <th></th>\n",
       "      <th></th>\n",
       "      <th></th>\n",
       "      <th></th>\n",
       "      <th></th>\n",
       "      <th></th>\n",
       "      <th></th>\n",
       "      <th></th>\n",
       "    </tr>\n",
       "  </thead>\n",
       "  <tbody>\n",
       "    <tr>\n",
       "      <th>2016-01-01</th>\n",
       "      <td>0.0</td>\n",
       "      <td>0.0</td>\n",
       "      <td>0.0</td>\n",
       "      <td>42</td>\n",
       "      <td>34</td>\n",
       "      <td>7.6</td>\n",
       "      <td>17.0</td>\n",
       "      <td>25.9</td>\n",
       "      <td>NaN</td>\n",
       "      <td>NaN</td>\n",
       "    </tr>\n",
       "    <tr>\n",
       "      <th>2016-01-02</th>\n",
       "      <td>0.0</td>\n",
       "      <td>0.0</td>\n",
       "      <td>0.0</td>\n",
       "      <td>40</td>\n",
       "      <td>32</td>\n",
       "      <td>6.7</td>\n",
       "      <td>15.0</td>\n",
       "      <td>23.0</td>\n",
       "      <td>NaN</td>\n",
       "      <td>NaN</td>\n",
       "    </tr>\n",
       "    <tr>\n",
       "      <th>2016-01-03</th>\n",
       "      <td>0.0</td>\n",
       "      <td>0.0</td>\n",
       "      <td>0.0</td>\n",
       "      <td>45</td>\n",
       "      <td>35</td>\n",
       "      <td>7.8</td>\n",
       "      <td>17.0</td>\n",
       "      <td>25.9</td>\n",
       "      <td>NaN</td>\n",
       "      <td>NaN</td>\n",
       "    </tr>\n",
       "    <tr>\n",
       "      <th>2016-01-04</th>\n",
       "      <td>0.0</td>\n",
       "      <td>0.0</td>\n",
       "      <td>0.0</td>\n",
       "      <td>36</td>\n",
       "      <td>14</td>\n",
       "      <td>8.5</td>\n",
       "      <td>21.0</td>\n",
       "      <td>31.1</td>\n",
       "      <td>NaN</td>\n",
       "      <td>NaN</td>\n",
       "    </tr>\n",
       "    <tr>\n",
       "      <th>2016-01-05</th>\n",
       "      <td>0.0</td>\n",
       "      <td>0.0</td>\n",
       "      <td>0.0</td>\n",
       "      <td>29</td>\n",
       "      <td>11</td>\n",
       "      <td>5.1</td>\n",
       "      <td>19.9</td>\n",
       "      <td>30.0</td>\n",
       "      <td>NaN</td>\n",
       "      <td>NaN</td>\n",
       "    </tr>\n",
       "  </tbody>\n",
       "</table>\n",
       "</div>"
      ],
      "text/plain": [
       "            PRCP  SNOW  SNWD  TMAX  TMIN  AWND  WSF2  WSF5  WT01  WT08\n",
       "DATE                                                                  \n",
       "2016-01-01   0.0   0.0   0.0    42    34   7.6  17.0  25.9   NaN   NaN\n",
       "2016-01-02   0.0   0.0   0.0    40    32   6.7  15.0  23.0   NaN   NaN\n",
       "2016-01-03   0.0   0.0   0.0    45    35   7.8  17.0  25.9   NaN   NaN\n",
       "2016-01-04   0.0   0.0   0.0    36    14   8.5  21.0  31.1   NaN   NaN\n",
       "2016-01-05   0.0   0.0   0.0    29    11   5.1  19.9  30.0   NaN   NaN"
      ]
     },
     "execution_count": 42,
     "metadata": {},
     "output_type": "execute_result"
    }
   ],
   "source": [
    "df.head()"
   ]
  },
  {
   "cell_type": "code",
   "execution_count": 43,
   "metadata": {
    "collapsed": false,
    "deletable": true,
    "editable": true
   },
   "outputs": [
    {
     "name": "stdout",
     "output_type": "stream",
     "text": [
      "<class 'pandas.core.frame.DataFrame'>\n",
      "DatetimeIndex: 366 entries, 2016-01-01 to 2016-12-31\n",
      "Data columns (total 10 columns):\n",
      "PRCP    366 non-null float64\n",
      "SNOW    366 non-null float64\n",
      "SNWD    366 non-null float64\n",
      "TMAX    366 non-null int64\n",
      "TMIN    366 non-null int64\n",
      "AWND    356 non-null float64\n",
      "WSF2    358 non-null float64\n",
      "WSF5    352 non-null float64\n",
      "WT01    131 non-null float64\n",
      "WT08    99 non-null float64\n",
      "dtypes: float64(8), int64(2)\n",
      "memory usage: 31.5 KB\n"
     ]
    }
   ],
   "source": [
    "df.info()"
   ]
  },
  {
   "cell_type": "markdown",
   "metadata": {},
   "source": [
    "Next,we fill the null weather type values with 0's."
   ]
  },
  {
   "cell_type": "code",
   "execution_count": 44,
   "metadata": {
    "collapsed": true
   },
   "outputs": [],
   "source": [
    "df = df.fillna({'WT01':0, 'WT08':0})"
   ]
  },
  {
   "cell_type": "code",
   "execution_count": 45,
   "metadata": {
    "collapsed": false
   },
   "outputs": [
    {
     "name": "stdout",
     "output_type": "stream",
     "text": [
      "<class 'pandas.core.frame.DataFrame'>\n",
      "DatetimeIndex: 366 entries, 2016-01-01 to 2016-12-31\n",
      "Data columns (total 10 columns):\n",
      "PRCP    366 non-null float64\n",
      "SNOW    366 non-null float64\n",
      "SNWD    366 non-null float64\n",
      "TMAX    366 non-null int64\n",
      "TMIN    366 non-null int64\n",
      "AWND    356 non-null float64\n",
      "WSF2    358 non-null float64\n",
      "WSF5    352 non-null float64\n",
      "WT01    366 non-null float64\n",
      "WT08    366 non-null float64\n",
      "dtypes: float64(8), int64(2)\n",
      "memory usage: 31.5 KB\n"
     ]
    }
   ],
   "source": [
    "df.info()"
   ]
  },
  {
   "cell_type": "markdown",
   "metadata": {
    "deletable": true,
    "editable": true
   },
   "source": [
    "To finish cleaning the weather data, all we need to do is fill missing wind speed values. We'll do so by averaging the forward and backfill values (under the intuition that wind speed is essentially continuous, so the mean value is a reasonable estimate)."
   ]
  },
  {
   "cell_type": "code",
   "execution_count": 46,
   "metadata": {
    "collapsed": true,
    "deletable": true,
    "editable": true
   },
   "outputs": [],
   "source": [
    "def get_forward_back_avg(series):\n",
    "    forward = series.ffill()\n",
    "    back = series.bfill()\n",
    "    if np.sum(forward - back) == 0:\n",
    "        print 'No change for {}'.format(series.name)\n",
    "    average = (forward + back)/2.0\n",
    "    return average"
   ]
  },
  {
   "cell_type": "code",
   "execution_count": 47,
   "metadata": {
    "collapsed": false,
    "deletable": true,
    "editable": true
   },
   "outputs": [
    {
     "name": "stdout",
     "output_type": "stream",
     "text": [
      "No change for PRCP\n",
      "No change for SNOW\n",
      "No change for SNWD\n",
      "No change for TMAX\n",
      "No change for TMIN\n",
      "No change for WT01\n",
      "No change for WT08\n"
     ]
    }
   ],
   "source": [
    "for col in df.columns:\n",
    "    df[col] = get_forward_back_avg(df[col])"
   ]
  }
 ],
 "metadata": {
  "kernelspec": {
   "display_name": "Python 2",
   "language": "python",
   "name": "python2"
  },
  "language_info": {
   "codemirror_mode": {
    "name": "ipython",
    "version": 2
   },
   "file_extension": ".py",
   "mimetype": "text/x-python",
   "name": "python",
   "nbconvert_exporter": "python",
   "pygments_lexer": "ipython2",
   "version": "2.7.10"
  }
 },
 "nbformat": 4,
 "nbformat_minor": 0
}
